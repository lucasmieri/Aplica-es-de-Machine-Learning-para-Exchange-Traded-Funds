{
 "cells": [
  {
   "cell_type": "code",
   "execution_count": null,
   "metadata": {},
   "outputs": [],
   "source": [
    "import numpy as np\n",
    "from yahooquery import Ticker\n",
    "import pandas as pd\n",
    "from pandas_datareader import data as pdr\n",
    "import yfinance as yf\n",
    "import investpy as inv\n",
    "import seaborn as sns\n",
    "import pandas_datareader.data as web\n",
    "import matplotlib as plt\n",
    "sns.set()\n",
    "\n",
    "\n",
    "etf_performance=pd.read_excel('etf_performance.xlsx')\n",
    "\n",
    "etf_performance=etf_performance[(etf_performance['asOfDate_performanceOverview']==\"'2021-08-12\") | (etf_performance['asOfDate_performanceOverview']== \"'2021-07-29\")]\n",
    "\n",
    "etf_performance.transpose()\n"
   ]
  },
  {
   "cell_type": "code",
   "execution_count": null,
   "metadata": {},
   "outputs": [],
   "source": [
    "lista=etf_performance['ETF'].to_list() \n",
    "\n",
    "for i in range (len(lista)):\n",
    "    fund = Ticker(lista[i])\n",
    "    fund=fund.fund_profile\n",
    "    print(i,lista[i], type(fund))\n",
    "    fund=pd.json_normalize(fund)\n",
    "    cat=fund[lista[i]+'.categoryName'].to_list()\n",
    "    df=pd.DataFrame(data={'category':cat, 'ETF': lista[i]})\n",
    "    \n",
    "    if i==0:\n",
    "        etf_category=df\n",
    "    else:\n",
    "        etf_category=etf_category.append(df)\n",
    "\n",
    "etf_performance_category=etf_performance.merge(etf_category, how='left', on='ETF')\n",
    "\n",
    "etf_performance_category.to_excel('etf_performance_category.xlsx')"
   ]
  }
 ],
 "metadata": {
  "kernelspec": {
   "display_name": "Python 3",
   "language": "python",
   "name": "python3"
  },
  "language_info": {
   "codemirror_mode": {
    "name": "ipython",
    "version": 3
   },
   "file_extension": ".py",
   "mimetype": "text/x-python",
   "name": "python",
   "nbconvert_exporter": "python",
   "pygments_lexer": "ipython3",
   "version": "3.8.5"
  }
 },
 "nbformat": 4,
 "nbformat_minor": 4
}
