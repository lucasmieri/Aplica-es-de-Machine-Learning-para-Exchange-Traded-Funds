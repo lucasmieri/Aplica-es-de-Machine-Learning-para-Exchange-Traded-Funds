{
 "cells": [
  {
   "cell_type": "code",
   "execution_count": null,
   "metadata": {},
   "outputs": [],
   "source": [
    "import numpy as np\n",
    "from yahooquery import Ticker\n",
    "import pandas as pd\n",
    "from pandas_datareader import data as pdr\n",
    "import yfinance as yf\n",
    "import investpy as inv\n",
    "etfs=inv.get_etfs()\n",
    "desconsiderados=['currency', 'bond']\n",
    "etfs=etfs[~etfs.asset_class.isin(desconsiderados)]\n",
    "ativos_americanos=etfs[etfs['country']=='united states']\n",
    "lista_etfs=list(ativos_americanos['symbol'])\n"
   ]
  },
  {
   "cell_type": "code",
   "execution_count": null,
   "metadata": {},
   "outputs": [],
   "source": [
    "ativos_americanos=etfs[etfs['country']=='united states']\n",
    "\n",
    "lista_etfs=list(ativos_americanos['symbol'])\n",
    "t=Ticker(lista_etfs[0])\n",
    "\n",
    "\n",
    "etfs_americanos=t.fund_top_holdings\n",
    "etfs_americanos['ETF']=lista_etfs[0]\n",
    "\n",
    "for i in range (1,len(lista_etfs)):\n",
    "  t=Ticker(lista_etfs[i])\n",
    "  etf_temp=t.fund_top_holdings\n",
    "  etf_temp['ETF']=lista_etfs[i]\n",
    "  etfs_americanos=etfs_americanos.append(etf_temp, ignore_index=True)\n",
    "  \n",
    "  \n",
    "etfs_holdings_completo=etfs_americanos[['symbol','holdingName', 'holdingPercent', 'ETF']]\n",
    "etfs_holdings_completo['holdingPercent']=100*etfs_holdings_completo['holdingPercent']\n",
    "\n",
    "\n",
    "etfs_holdings_completo.to_excel(\"etfs_holdings.xlsx\")"
   ]
  },
  {
   "cell_type": "code",
   "execution_count": null,
   "metadata": {},
   "outputs": [],
   "source": []
  }
 ],
 "metadata": {
  "kernelspec": {
   "display_name": "Python 3",
   "language": "python",
   "name": "python3"
  },
  "language_info": {
   "codemirror_mode": {
    "name": "ipython",
    "version": 3
   },
   "file_extension": ".py",
   "mimetype": "text/x-python",
   "name": "python",
   "nbconvert_exporter": "python",
   "pygments_lexer": "ipython3",
   "version": "3.8.5"
  }
 },
 "nbformat": 4,
 "nbformat_minor": 4
}
